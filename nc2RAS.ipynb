{
 "cells": [
  {
   "cell_type": "code",
   "execution_count": 32,
   "metadata": {},
   "outputs": [
    {
     "data": {
      "text/html": [
       "<div>\n",
       "<style scoped>\n",
       "    .dataframe tbody tr th:only-of-type {\n",
       "        vertical-align: middle;\n",
       "    }\n",
       "\n",
       "    .dataframe tbody tr th {\n",
       "        vertical-align: top;\n",
       "    }\n",
       "\n",
       "    .dataframe thead th {\n",
       "        text-align: right;\n",
       "    }\n",
       "</style>\n",
       "<table border=\"1\" class=\"dataframe\">\n",
       "  <thead>\n",
       "    <tr style=\"text-align: right;\">\n",
       "      <th></th>\n",
       "      <th>Name</th>\n",
       "      <th>StormID</th>\n",
       "      <th>StartTime</th>\n",
       "      <th>EndTime</th>\n",
       "    </tr>\n",
       "  </thead>\n",
       "  <tbody>\n",
       "    <tr>\n",
       "      <th>0</th>\n",
       "      <td>Tropical Storm Bertha (2002)</td>\n",
       "      <td>Bertha_2002</td>\n",
       "      <td>8/4/02 18:00</td>\n",
       "      <td>8/9/02 12:00</td>\n",
       "    </tr>\n",
       "    <tr>\n",
       "      <th>1</th>\n",
       "      <td>Hurricane Isidore (2002)</td>\n",
       "      <td>Isidore_2002</td>\n",
       "      <td>9/14/02 18:00</td>\n",
       "      <td>9/27/02 18:00</td>\n",
       "    </tr>\n",
       "    <tr>\n",
       "      <th>2</th>\n",
       "      <td>Hurricane Lili (2002)</td>\n",
       "      <td>Lili_2002</td>\n",
       "      <td>9/21/02 8:00</td>\n",
       "      <td>10/4/02 12:00</td>\n",
       "    </tr>\n",
       "    <tr>\n",
       "      <th>3</th>\n",
       "      <td>Tropical Storm Bill (2003)</td>\n",
       "      <td>Bill_2003</td>\n",
       "      <td>6/28/03 6:00</td>\n",
       "      <td>7/30/03 0:00</td>\n",
       "    </tr>\n",
       "    <tr>\n",
       "      <th>4</th>\n",
       "      <td>Tropical Storm Matthew (2004)</td>\n",
       "      <td>Matthew_2004</td>\n",
       "      <td>10/8/04 12:00</td>\n",
       "      <td>10/11/04 6:00</td>\n",
       "    </tr>\n",
       "    <tr>\n",
       "      <th>5</th>\n",
       "      <td>Hurricane Cindy (2005)</td>\n",
       "      <td>Cindy_2005</td>\n",
       "      <td>7/3/05 18:00</td>\n",
       "      <td>7/11/05 6:00</td>\n",
       "    </tr>\n",
       "    <tr>\n",
       "      <th>6</th>\n",
       "      <td>Hurricane Rita (2005)</td>\n",
       "      <td>Rita_2005</td>\n",
       "      <td>9/18/05 0:00</td>\n",
       "      <td>9/26/05 6:00</td>\n",
       "    </tr>\n",
       "    <tr>\n",
       "      <th>7</th>\n",
       "      <td>Hurricane Gustav (2008)</td>\n",
       "      <td>Gustav_2008</td>\n",
       "      <td>8/25/08 0:00</td>\n",
       "      <td>9/5/08 12:00</td>\n",
       "    </tr>\n",
       "    <tr>\n",
       "      <th>8</th>\n",
       "      <td>Tropical Storm Bonnie (2010)</td>\n",
       "      <td>Bonnie_2010</td>\n",
       "      <td>7/22/10 6:00</td>\n",
       "      <td>7/25/10 18:00</td>\n",
       "    </tr>\n",
       "    <tr>\n",
       "      <th>9</th>\n",
       "      <td>Tropical Storm Lee (2011)</td>\n",
       "      <td>Lee_2011</td>\n",
       "      <td>9/2/11 0:00</td>\n",
       "      <td>9/6/11 18:00</td>\n",
       "    </tr>\n",
       "    <tr>\n",
       "      <th>10</th>\n",
       "      <td>Tropical Storm Cindy (2017)</td>\n",
       "      <td>Cindy_2017</td>\n",
       "      <td>6/19/17 18:00</td>\n",
       "      <td>6/24/17 6:00</td>\n",
       "    </tr>\n",
       "    <tr>\n",
       "      <th>11</th>\n",
       "      <td>Hurricane Barry (2019)</td>\n",
       "      <td>Barry_2019</td>\n",
       "      <td>7/10/19 12:00</td>\n",
       "      <td>7/16/19 6:00</td>\n",
       "    </tr>\n",
       "    <tr>\n",
       "      <th>12</th>\n",
       "      <td>Hurricane Ida (2021)</td>\n",
       "      <td>Ida_2021</td>\n",
       "      <td>8/26/21 18:00</td>\n",
       "      <td>9/4/21 0:00</td>\n",
       "    </tr>\n",
       "  </tbody>\n",
       "</table>\n",
       "</div>"
      ],
      "text/plain": [
       "                             Name       StormID      StartTime        EndTime\n",
       "0    Tropical Storm Bertha (2002)   Bertha_2002   8/4/02 18:00   8/9/02 12:00\n",
       "1        Hurricane Isidore (2002)  Isidore_2002  9/14/02 18:00  9/27/02 18:00\n",
       "2           Hurricane Lili (2002)     Lili_2002   9/21/02 8:00  10/4/02 12:00\n",
       "3      Tropical Storm Bill (2003)     Bill_2003   6/28/03 6:00   7/30/03 0:00\n",
       "4   Tropical Storm Matthew (2004)  Matthew_2004  10/8/04 12:00  10/11/04 6:00\n",
       "5          Hurricane Cindy (2005)    Cindy_2005   7/3/05 18:00   7/11/05 6:00\n",
       "6           Hurricane Rita (2005)     Rita_2005   9/18/05 0:00   9/26/05 6:00\n",
       "7         Hurricane Gustav (2008)   Gustav_2008   8/25/08 0:00   9/5/08 12:00\n",
       "8    Tropical Storm Bonnie (2010)   Bonnie_2010   7/22/10 6:00  7/25/10 18:00\n",
       "9       Tropical Storm Lee (2011)      Lee_2011    9/2/11 0:00   9/6/11 18:00\n",
       "10    Tropical Storm Cindy (2017)    Cindy_2017  6/19/17 18:00   6/24/17 6:00\n",
       "11         Hurricane Barry (2019)    Barry_2019  7/10/19 12:00   7/16/19 6:00\n",
       "12           Hurricane Ida (2021)      Ida_2021  8/26/21 18:00    9/4/21 0:00"
      ]
     },
     "execution_count": 32,
     "metadata": {},
     "output_type": "execute_result"
    }
   ],
   "source": [
    "# This script is meant to match the functionality of nc2RAS.m Matlab script\n",
    "# Converts an input netCDF file to be used  for the 500 different equiprobable rainfall fields derived from the IPET predicted rainfall for selected historic rainfall events\n",
    "\n",
    "# Import List of selected historic rainfall events and their respective startTimes\n",
    "import glob, os\n",
    "import pandas as pd\n",
    "from datetime import datetime\n",
    "import xarray as xr\n",
    "stormListFileName = \"LWI_Phase2Storms_EBTRK_Times.csv\"\n",
    "stormList = pd.read_csv(stormListFileName)\n",
    "stormList"
   ]
  },
  {
   "cell_type": "code",
   "execution_count": 33,
   "metadata": {},
   "outputs": [],
   "source": [
    "#Check folder for input files\n",
    "os.chdir(\"./input\")\n",
    "filenameList = []\n",
    "for file in glob.glob(\"*.nc\"):\n",
    "    filenameList.append(file)\n",
    "filenameList\n",
    "os.chdir(\"..\")"
   ]
  },
  {
   "cell_type": "code",
   "execution_count": 34,
   "metadata": {},
   "outputs": [],
   "source": [
    "#Loop through input files\n",
    "for file in filenameList:\n",
    "    outFilename = file.split(\".\")[0] + \"-hec.nc\"\n",
    "    stormID = file.split(\".\")[0].split(\"-\")[2]\n",
    "    # Look up startTime from stormList by stormID\n",
    "    try:\n",
    "        startTime_str = stormList[stormList['StormID'].str.contains(stormID, na=False, case=False)]['StartTime'].values[0]\n",
    "    except:\n",
    "        print (f'{stormID} not found in {stormListFileName}')\n",
    "    startTime_dt = datetime.strptime(startTime_str, '%m/%d/%y %H:%M')"
   ]
  },
  {
   "cell_type": "code",
   "execution_count": 24,
   "metadata": {},
   "outputs": [
    {
     "data": {
      "text/plain": [
       "str"
      ]
     },
     "execution_count": 24,
     "metadata": {},
     "output_type": "execute_result"
    }
   ],
   "source": [
    "# from here and cells below - Add back to input file loop later\n",
    "\n",
    "# open input nc, edit to make HEC compliant, save as output nc, run through vortex jython api to create dss file."
   ]
  }
 ],
 "metadata": {
  "kernelspec": {
   "display_name": "Python 3.10.4 ('XrRio')",
   "language": "python",
   "name": "python3"
  },
  "language_info": {
   "codemirror_mode": {
    "name": "ipython",
    "version": 3
   },
   "file_extension": ".py",
   "mimetype": "text/x-python",
   "name": "python",
   "nbconvert_exporter": "python",
   "pygments_lexer": "ipython3",
   "version": "3.10.4"
  },
  "orig_nbformat": 4,
  "vscode": {
   "interpreter": {
    "hash": "19128478a99f735768fcf3941ea77b79e36d4710fad035ad28d4b89a4e1d564e"
   }
  }
 },
 "nbformat": 4,
 "nbformat_minor": 2
}
